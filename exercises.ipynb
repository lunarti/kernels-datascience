{
 "cells": [
  {
   "cell_type": "code",
   "execution_count": null,
   "source": [
    "# Crie um array NumPy com 1000000 e uma lista com 1000000.\r\n",
    "# Multiplique cada elemento do array e da lista por 2 e calcule o tempo de execução com cada um dos objetos (use %time).\r\n",
    "# Qual objeto oferece melhor performance, array NumPy ou lista?\r\n",
    "import numpy as np"
   ],
   "outputs": [],
   "metadata": {}
  },
  {
   "cell_type": "code",
   "execution_count": null,
   "source": [
    "arrayNumpy=np.arange(1000000)"
   ],
   "outputs": [],
   "metadata": {}
  },
  {
   "cell_type": "code",
   "execution_count": null,
   "source": [
    "lista=list(range(1000000))\r\n",
    "lista"
   ],
   "outputs": [],
   "metadata": {}
  },
  {
   "cell_type": "code",
   "execution_count": null,
   "source": [
    "%time arrayNumpy=arrayNumpy*2\r\n",
    "arrayNumpy"
   ],
   "outputs": [],
   "metadata": {}
  },
  {
   "cell_type": "code",
   "execution_count": null,
   "source": [
    "%time lista = [x * 2 for x in lista]\r\n",
    "lista"
   ],
   "outputs": [],
   "metadata": {}
  },
  {
   "cell_type": "markdown",
   "source": [
    "### Os tempos de execução do pacote NumPy é melhor."
   ],
   "metadata": {}
  },
  {
   "cell_type": "code",
   "execution_count": null,
   "source": [
    "# Exercício 2\r\n",
    "# Crie um array de 10 elementos\r\n",
    "# Altere o valores de todos os elementos dos índices 5 a 8 para 0"
   ],
   "outputs": [],
   "metadata": {}
  },
  {
   "cell_type": "code",
   "execution_count": null,
   "source": [
    "tenElements=np.arange(10)"
   ],
   "outputs": [],
   "metadata": {}
  },
  {
   "cell_type": "code",
   "execution_count": null,
   "source": [
    "tenElements[5:8]=0\r\n",
    "tenElements"
   ],
   "outputs": [],
   "metadata": {}
  },
  {
   "cell_type": "code",
   "execution_count": null,
   "source": [
    "# Crie um array de 3 dimensões e imprima a dimensão 1"
   ],
   "outputs": [],
   "metadata": {}
  },
  {
   "cell_type": "code",
   "execution_count": null,
   "source": [
    "threeDimensions=np.ones((2,3,4))\r\n",
    "print(threeDimensions)"
   ],
   "outputs": [],
   "metadata": {}
  },
  {
   "cell_type": "code",
   "execution_count": null,
   "source": [
    "threeDimensions[:,:,0]"
   ],
   "outputs": [],
   "metadata": {}
  },
  {
   "cell_type": "code",
   "execution_count": null,
   "source": [
    "# Crie um array de duas dimensões (matriz).\r\n",
    "# Imprima os elementos da terceira linha da matriz\r\n",
    "# Imprima todos os elementos da primeira e segunda linhas e segunda e terceira colunas"
   ],
   "outputs": [],
   "metadata": {}
  },
  {
   "cell_type": "code",
   "execution_count": null,
   "source": [
    "matriz=np.zeros((3,3))\r\n",
    "np.matrix(matriz)"
   ],
   "outputs": [],
   "metadata": {}
  },
  {
   "cell_type": "code",
   "execution_count": null,
   "source": [
    "matriz[2,:]"
   ],
   "outputs": [],
   "metadata": {}
  },
  {
   "cell_type": "code",
   "execution_count": null,
   "source": [
    "matriz[0:2,:]"
   ],
   "outputs": [],
   "metadata": {}
  },
  {
   "cell_type": "code",
   "execution_count": null,
   "source": [
    "matriz[:,1:3]"
   ],
   "outputs": [],
   "metadata": {}
  },
  {
   "cell_type": "code",
   "execution_count": null,
   "source": [
    "# Calcule a transposta da matriz abaixo\r\n",
    "arr = np.arange(15).reshape((3, 5))\r\n",
    "arr"
   ],
   "outputs": [],
   "metadata": {}
  },
  {
   "cell_type": "code",
   "execution_count": null,
   "source": [
    "np.transpose(arr)"
   ],
   "outputs": [],
   "metadata": {}
  },
  {
   "cell_type": "code",
   "execution_count": null,
   "source": [
    "arr.T"
   ],
   "outputs": [],
   "metadata": {}
  },
  {
   "cell_type": "code",
   "execution_count": null,
   "source": [
    "# Considere os 3 arrays abaixo\r\n",
    "# Retorne o valor do array xarr se o valor for True no array cond. Caso contrário, retorne o valor do array yarr.\r\n",
    "xarr = np.array([1.1, 1.2, 1.3, 1.4, 1.5])\r\n",
    "yarr = np.array([2.1, 2.2, 2.3, 2.4, 2.5])\r\n",
    "cond = np.array([True, False, True, True, False])"
   ],
   "outputs": [],
   "metadata": {}
  },
  {
   "cell_type": "code",
   "execution_count": null,
   "source": [
    "resultado = [(x if c else y) for x, y, c in zip(xarr, yarr, cond)]\r\n",
    "resultado"
   ],
   "outputs": [],
   "metadata": {}
  },
  {
   "cell_type": "code",
   "execution_count": null,
   "source": [
    "# Crie um array A com 10 elementos e salve o array em disco com a extensão npy\r\n",
    "# Depois carregue o array do disco no array B"
   ],
   "outputs": [],
   "metadata": {}
  },
  {
   "cell_type": "code",
   "execution_count": null,
   "source": [
    "import pandas as pd\r\n",
    "obj = pd.Series(['c', 'a', 'd', 'a', 'a', 'b', 'b', 'c', 'c', 'a', 'b'])"
   ],
   "outputs": [],
   "metadata": {}
  },
  {
   "cell_type": "code",
   "execution_count": null,
   "source": [
    "obj=np.unique(obj)\r\n",
    "obj"
   ],
   "outputs": [],
   "metadata": {}
  },
  {
   "cell_type": "code",
   "execution_count": null,
   "source": [
    "import requests\r\n",
    "url = 'https://api.github.com/repos/pandas-dev/pandas/issues'\r\n",
    "resp = requests.get(url)\r\n",
    "resp"
   ],
   "outputs": [],
   "metadata": {}
  },
  {
   "cell_type": "code",
   "execution_count": 42,
   "source": [
    "data = resp.json()\r\n",
    "issues = pd.DataFrame(data, columns=['number', 'title', 'labels', 'state'])\r\n",
    "issues"
   ],
   "outputs": [
    {
     "output_type": "execute_result",
     "data": {
      "text/plain": [
       "    number                                              title  \\\n",
       "0    42975  Backport PR #42838 on branch 1.3.x (REGR: Seri...   \n",
       "1    42973  DIS: Should the keyword use_nullable_dtypes us...   \n",
       "2    42972  ENH: add kwarg `max_rows` `max_cols` to `Style...   \n",
       "3    42971  BUG: Different initialization methods lead to ...   \n",
       "4    42970  pandas.DataFrame.filter does not work with reg...   \n",
       "5    42968  Update Parquet pandas metadata description on ...   \n",
       "6    42966  BUG:Tuple Series name causes InvalidIndexError...   \n",
       "7    42965     How to add coroutines in apply lambda function   \n",
       "8    42964           ENH: conditional merge - initial concept   \n",
       "9    42961                              CI: Dateutil broke CI   \n",
       "10   42960  BUG: erroneous initialization of a DataFrame w...   \n",
       "11   42957  BUG: pd.to_datetime with format doesn't work w...   \n",
       "12   42956              BENCH: Fix misleading Interpolate asv   \n",
       "13   42951                        Use new GitHub issue forms?   \n",
       "14   42950  PERF: improve perf of Series fastpath constructor   \n",
       "15   42947  ENH: A new GroupBy iloc method to slice rows p...   \n",
       "16   42946                       Python 3.10 manylinux wheels   \n",
       "17   42944  BUG: read_csv with mixed bools and NaNs someti...   \n",
       "18   42943             ENH: add new method `DataFrame.repeat`   \n",
       "19   42940  TST: GH34037 add test for type error when usin...   \n",
       "20   42939        TST: add test for getting array from series   \n",
       "21   42937         CLN: clean warning assertions in sql tests   \n",
       "22   42935                                    Update frame.py   \n",
       "23   42934  BUG: should constructing Index from a Series m...   \n",
       "24   42933  CLN: replace styler code for refactor `level` ...   \n",
       "25   42931  BUG: Attributes skipped when serialising plain...   \n",
       "26   42927  ENH: Sliding window by value interval on non-t...   \n",
       "27   42926                   TYP: overriding of final methods   \n",
       "28   42925     PERF: Sparse Series to scipy COO sparse matrix   \n",
       "29   42924    STYLE: pre-commit check on get/set_option usage   \n",
       "\n",
       "                                               labels state  \n",
       "0   [{'id': 32815646, 'node_id': 'MDU6TGFiZWwzMjgx...  open  \n",
       "1   [{'id': 2301354, 'node_id': 'MDU6TGFiZWwyMzAxM...  open  \n",
       "2                                                  []  open  \n",
       "3   [{'id': 76811, 'node_id': 'MDU6TGFiZWw3NjgxMQ=...  open  \n",
       "4   [{'id': 76811, 'node_id': 'MDU6TGFiZWw3NjgxMQ=...  open  \n",
       "5   [{'id': 685114413, 'node_id': 'MDU6TGFiZWw2ODU...  open  \n",
       "6   [{'id': 76811, 'node_id': 'MDU6TGFiZWw3NjgxMQ=...  open  \n",
       "7   [{'id': 34444536, 'node_id': 'MDU6TGFiZWwzNDQ0...  open  \n",
       "8                                                  []  open  \n",
       "9   [{'id': 48070600, 'node_id': 'MDU6TGFiZWw0ODA3...  open  \n",
       "10                                                 []  open  \n",
       "11  [{'id': 76811, 'node_id': 'MDU6TGFiZWw3NjgxMQ=...  open  \n",
       "12  [{'id': 732775912, 'node_id': 'MDU6TGFiZWw3MzI...  open  \n",
       "13  [{'id': 219960758, 'node_id': 'MDU6TGFiZWwyMTk...  open  \n",
       "14  [{'id': 8935311, 'node_id': 'MDU6TGFiZWw4OTM1M...  open  \n",
       "15                                                 []  open  \n",
       "16  [{'id': 129350, 'node_id': 'MDU6TGFiZWwxMjkzNT...  open  \n",
       "17  [{'id': 31404521, 'node_id': 'MDU6TGFiZWwzMTQw...  open  \n",
       "18  [{'id': 76812, 'node_id': 'MDU6TGFiZWw3NjgxMg=...  open  \n",
       "19  [{'id': 127685, 'node_id': 'MDU6TGFiZWwxMjc2OD...  open  \n",
       "20  [{'id': 127685, 'node_id': 'MDU6TGFiZWwxMjc2OD...  open  \n",
       "21  [{'id': 127685, 'node_id': 'MDU6TGFiZWwxMjc2OD...  open  \n",
       "22                                                 []  open  \n",
       "23  [{'id': 76811, 'node_id': 'MDU6TGFiZWw3NjgxMQ=...  open  \n",
       "24  [{'id': 127681, 'node_id': 'MDU6TGFiZWwxMjc2OD...  open  \n",
       "25  [{'id': 49379259, 'node_id': 'MDU6TGFiZWw0OTM3...  open  \n",
       "26  [{'id': 76812, 'node_id': 'MDU6TGFiZWw3NjgxMg=...  open  \n",
       "27  [{'id': 76811, 'node_id': 'MDU6TGFiZWw3NjgxMQ=...  open  \n",
       "28  [{'id': 8935311, 'node_id': 'MDU6TGFiZWw4OTM1M...  open  \n",
       "29  [{'id': 106935113, 'node_id': 'MDU6TGFiZWwxMDY...  open  "
      ],
      "text/html": [
       "<div>\n",
       "<style scoped>\n",
       "    .dataframe tbody tr th:only-of-type {\n",
       "        vertical-align: middle;\n",
       "    }\n",
       "\n",
       "    .dataframe tbody tr th {\n",
       "        vertical-align: top;\n",
       "    }\n",
       "\n",
       "    .dataframe thead th {\n",
       "        text-align: right;\n",
       "    }\n",
       "</style>\n",
       "<table border=\"1\" class=\"dataframe\">\n",
       "  <thead>\n",
       "    <tr style=\"text-align: right;\">\n",
       "      <th></th>\n",
       "      <th>number</th>\n",
       "      <th>title</th>\n",
       "      <th>labels</th>\n",
       "      <th>state</th>\n",
       "    </tr>\n",
       "  </thead>\n",
       "  <tbody>\n",
       "    <tr>\n",
       "      <th>0</th>\n",
       "      <td>42975</td>\n",
       "      <td>Backport PR #42838 on branch 1.3.x (REGR: Seri...</td>\n",
       "      <td>[{'id': 32815646, 'node_id': 'MDU6TGFiZWwzMjgx...</td>\n",
       "      <td>open</td>\n",
       "    </tr>\n",
       "    <tr>\n",
       "      <th>1</th>\n",
       "      <td>42973</td>\n",
       "      <td>DIS: Should the keyword use_nullable_dtypes us...</td>\n",
       "      <td>[{'id': 2301354, 'node_id': 'MDU6TGFiZWwyMzAxM...</td>\n",
       "      <td>open</td>\n",
       "    </tr>\n",
       "    <tr>\n",
       "      <th>2</th>\n",
       "      <td>42972</td>\n",
       "      <td>ENH: add kwarg `max_rows` `max_cols` to `Style...</td>\n",
       "      <td>[]</td>\n",
       "      <td>open</td>\n",
       "    </tr>\n",
       "    <tr>\n",
       "      <th>3</th>\n",
       "      <td>42971</td>\n",
       "      <td>BUG: Different initialization methods lead to ...</td>\n",
       "      <td>[{'id': 76811, 'node_id': 'MDU6TGFiZWw3NjgxMQ=...</td>\n",
       "      <td>open</td>\n",
       "    </tr>\n",
       "    <tr>\n",
       "      <th>4</th>\n",
       "      <td>42970</td>\n",
       "      <td>pandas.DataFrame.filter does not work with reg...</td>\n",
       "      <td>[{'id': 76811, 'node_id': 'MDU6TGFiZWw3NjgxMQ=...</td>\n",
       "      <td>open</td>\n",
       "    </tr>\n",
       "    <tr>\n",
       "      <th>5</th>\n",
       "      <td>42968</td>\n",
       "      <td>Update Parquet pandas metadata description on ...</td>\n",
       "      <td>[{'id': 685114413, 'node_id': 'MDU6TGFiZWw2ODU...</td>\n",
       "      <td>open</td>\n",
       "    </tr>\n",
       "    <tr>\n",
       "      <th>6</th>\n",
       "      <td>42966</td>\n",
       "      <td>BUG:Tuple Series name causes InvalidIndexError...</td>\n",
       "      <td>[{'id': 76811, 'node_id': 'MDU6TGFiZWw3NjgxMQ=...</td>\n",
       "      <td>open</td>\n",
       "    </tr>\n",
       "    <tr>\n",
       "      <th>7</th>\n",
       "      <td>42965</td>\n",
       "      <td>How to add coroutines in apply lambda function</td>\n",
       "      <td>[{'id': 34444536, 'node_id': 'MDU6TGFiZWwzNDQ0...</td>\n",
       "      <td>open</td>\n",
       "    </tr>\n",
       "    <tr>\n",
       "      <th>8</th>\n",
       "      <td>42964</td>\n",
       "      <td>ENH: conditional merge - initial concept</td>\n",
       "      <td>[]</td>\n",
       "      <td>open</td>\n",
       "    </tr>\n",
       "    <tr>\n",
       "      <th>9</th>\n",
       "      <td>42961</td>\n",
       "      <td>CI: Dateutil broke CI</td>\n",
       "      <td>[{'id': 48070600, 'node_id': 'MDU6TGFiZWw0ODA3...</td>\n",
       "      <td>open</td>\n",
       "    </tr>\n",
       "    <tr>\n",
       "      <th>10</th>\n",
       "      <td>42960</td>\n",
       "      <td>BUG: erroneous initialization of a DataFrame w...</td>\n",
       "      <td>[]</td>\n",
       "      <td>open</td>\n",
       "    </tr>\n",
       "    <tr>\n",
       "      <th>11</th>\n",
       "      <td>42957</td>\n",
       "      <td>BUG: pd.to_datetime with format doesn't work w...</td>\n",
       "      <td>[{'id': 76811, 'node_id': 'MDU6TGFiZWw3NjgxMQ=...</td>\n",
       "      <td>open</td>\n",
       "    </tr>\n",
       "    <tr>\n",
       "      <th>12</th>\n",
       "      <td>42956</td>\n",
       "      <td>BENCH: Fix misleading Interpolate asv</td>\n",
       "      <td>[{'id': 732775912, 'node_id': 'MDU6TGFiZWw3MzI...</td>\n",
       "      <td>open</td>\n",
       "    </tr>\n",
       "    <tr>\n",
       "      <th>13</th>\n",
       "      <td>42951</td>\n",
       "      <td>Use new GitHub issue forms?</td>\n",
       "      <td>[{'id': 219960758, 'node_id': 'MDU6TGFiZWwyMTk...</td>\n",
       "      <td>open</td>\n",
       "    </tr>\n",
       "    <tr>\n",
       "      <th>14</th>\n",
       "      <td>42950</td>\n",
       "      <td>PERF: improve perf of Series fastpath constructor</td>\n",
       "      <td>[{'id': 8935311, 'node_id': 'MDU6TGFiZWw4OTM1M...</td>\n",
       "      <td>open</td>\n",
       "    </tr>\n",
       "    <tr>\n",
       "      <th>15</th>\n",
       "      <td>42947</td>\n",
       "      <td>ENH: A new GroupBy iloc method to slice rows p...</td>\n",
       "      <td>[]</td>\n",
       "      <td>open</td>\n",
       "    </tr>\n",
       "    <tr>\n",
       "      <th>16</th>\n",
       "      <td>42946</td>\n",
       "      <td>Python 3.10 manylinux wheels</td>\n",
       "      <td>[{'id': 129350, 'node_id': 'MDU6TGFiZWwxMjkzNT...</td>\n",
       "      <td>open</td>\n",
       "    </tr>\n",
       "    <tr>\n",
       "      <th>17</th>\n",
       "      <td>42944</td>\n",
       "      <td>BUG: read_csv with mixed bools and NaNs someti...</td>\n",
       "      <td>[{'id': 31404521, 'node_id': 'MDU6TGFiZWwzMTQw...</td>\n",
       "      <td>open</td>\n",
       "    </tr>\n",
       "    <tr>\n",
       "      <th>18</th>\n",
       "      <td>42943</td>\n",
       "      <td>ENH: add new method `DataFrame.repeat`</td>\n",
       "      <td>[{'id': 76812, 'node_id': 'MDU6TGFiZWw3NjgxMg=...</td>\n",
       "      <td>open</td>\n",
       "    </tr>\n",
       "    <tr>\n",
       "      <th>19</th>\n",
       "      <td>42940</td>\n",
       "      <td>TST: GH34037 add test for type error when usin...</td>\n",
       "      <td>[{'id': 127685, 'node_id': 'MDU6TGFiZWwxMjc2OD...</td>\n",
       "      <td>open</td>\n",
       "    </tr>\n",
       "    <tr>\n",
       "      <th>20</th>\n",
       "      <td>42939</td>\n",
       "      <td>TST: add test for getting array from series</td>\n",
       "      <td>[{'id': 127685, 'node_id': 'MDU6TGFiZWwxMjc2OD...</td>\n",
       "      <td>open</td>\n",
       "    </tr>\n",
       "    <tr>\n",
       "      <th>21</th>\n",
       "      <td>42937</td>\n",
       "      <td>CLN: clean warning assertions in sql tests</td>\n",
       "      <td>[{'id': 127685, 'node_id': 'MDU6TGFiZWwxMjc2OD...</td>\n",
       "      <td>open</td>\n",
       "    </tr>\n",
       "    <tr>\n",
       "      <th>22</th>\n",
       "      <td>42935</td>\n",
       "      <td>Update frame.py</td>\n",
       "      <td>[]</td>\n",
       "      <td>open</td>\n",
       "    </tr>\n",
       "    <tr>\n",
       "      <th>23</th>\n",
       "      <td>42934</td>\n",
       "      <td>BUG: should constructing Index from a Series m...</td>\n",
       "      <td>[{'id': 76811, 'node_id': 'MDU6TGFiZWw3NjgxMQ=...</td>\n",
       "      <td>open</td>\n",
       "    </tr>\n",
       "    <tr>\n",
       "      <th>24</th>\n",
       "      <td>42933</td>\n",
       "      <td>CLN: replace styler code for refactor `level` ...</td>\n",
       "      <td>[{'id': 127681, 'node_id': 'MDU6TGFiZWwxMjc2OD...</td>\n",
       "      <td>open</td>\n",
       "    </tr>\n",
       "    <tr>\n",
       "      <th>25</th>\n",
       "      <td>42931</td>\n",
       "      <td>BUG: Attributes skipped when serialising plain...</td>\n",
       "      <td>[{'id': 49379259, 'node_id': 'MDU6TGFiZWw0OTM3...</td>\n",
       "      <td>open</td>\n",
       "    </tr>\n",
       "    <tr>\n",
       "      <th>26</th>\n",
       "      <td>42927</td>\n",
       "      <td>ENH: Sliding window by value interval on non-t...</td>\n",
       "      <td>[{'id': 76812, 'node_id': 'MDU6TGFiZWw3NjgxMg=...</td>\n",
       "      <td>open</td>\n",
       "    </tr>\n",
       "    <tr>\n",
       "      <th>27</th>\n",
       "      <td>42926</td>\n",
       "      <td>TYP: overriding of final methods</td>\n",
       "      <td>[{'id': 76811, 'node_id': 'MDU6TGFiZWw3NjgxMQ=...</td>\n",
       "      <td>open</td>\n",
       "    </tr>\n",
       "    <tr>\n",
       "      <th>28</th>\n",
       "      <td>42925</td>\n",
       "      <td>PERF: Sparse Series to scipy COO sparse matrix</td>\n",
       "      <td>[{'id': 8935311, 'node_id': 'MDU6TGFiZWw4OTM1M...</td>\n",
       "      <td>open</td>\n",
       "    </tr>\n",
       "    <tr>\n",
       "      <th>29</th>\n",
       "      <td>42924</td>\n",
       "      <td>STYLE: pre-commit check on get/set_option usage</td>\n",
       "      <td>[{'id': 106935113, 'node_id': 'MDU6TGFiZWwxMDY...</td>\n",
       "      <td>open</td>\n",
       "    </tr>\n",
       "  </tbody>\n",
       "</table>\n",
       "</div>"
      ]
     },
     "metadata": {},
     "execution_count": 42
    }
   ],
   "metadata": {}
  },
  {
   "cell_type": "code",
   "execution_count": 43,
   "source": [
    "import sqlite3\r\n",
    "import pandas as pd\r\n",
    "query = \"\"\"\r\n",
    "CREATE TABLE TESTE\r\n",
    "(Cidade VARCHAR(20), \r\n",
    " Estado VARCHAR(20),\r\n",
    " taxa REAL,        \r\n",
    " Impostos INTEGER\r\n",
    ");\"\"\"\r\n",
    "con = sqlite3.connect('dsa.db')\r\n",
    "con.execute(query)\r\n",
    "con.commit()"
   ],
   "outputs": [],
   "metadata": {}
  },
  {
   "cell_type": "code",
   "execution_count": 44,
   "source": [
    "data = [('Natal', 'Rio Grande do Norte', 1.25, 6),\r\n",
    "        ('Recife', 'Pernambuco', 2.6, 3),\r\n",
    "        ('Londrina', 'Paraná', 1.7, 5)]\r\n",
    "stmt = \"INSERT INTO TESTE VALUES(?, ?, ?, ?)\"\r\n",
    "con.executemany(stmt, data)\r\n",
    "con.commit()"
   ],
   "outputs": [],
   "metadata": {}
  },
  {
   "cell_type": "code",
   "execution_count": 45,
   "source": [
    "cursor = con.execute('select * from teste')\r\n",
    "rows = cursor.fetchall()\r\n",
    "rows"
   ],
   "outputs": [
    {
     "output_type": "execute_result",
     "data": {
      "text/plain": [
       "[('Natal', 'Rio Grande do Norte', 1.25, 6),\n",
       " ('Recife', 'Pernambuco', 2.6, 3),\n",
       " ('Londrina', 'Paraná', 1.7, 5)]"
      ]
     },
     "metadata": {},
     "execution_count": 45
    }
   ],
   "metadata": {}
  },
  {
   "cell_type": "code",
   "execution_count": 46,
   "source": [
    "cursor.description\r\n",
    "pd.DataFrame(rows, columns=[x[0] for x in cursor.description])"
   ],
   "outputs": [
    {
     "output_type": "execute_result",
     "data": {
      "text/plain": [
       "     Cidade               Estado  taxa  Impostos\n",
       "0     Natal  Rio Grande do Norte  1.25         6\n",
       "1    Recife           Pernambuco  2.60         3\n",
       "2  Londrina               Paraná  1.70         5"
      ],
      "text/html": [
       "<div>\n",
       "<style scoped>\n",
       "    .dataframe tbody tr th:only-of-type {\n",
       "        vertical-align: middle;\n",
       "    }\n",
       "\n",
       "    .dataframe tbody tr th {\n",
       "        vertical-align: top;\n",
       "    }\n",
       "\n",
       "    .dataframe thead th {\n",
       "        text-align: right;\n",
       "    }\n",
       "</style>\n",
       "<table border=\"1\" class=\"dataframe\">\n",
       "  <thead>\n",
       "    <tr style=\"text-align: right;\">\n",
       "      <th></th>\n",
       "      <th>Cidade</th>\n",
       "      <th>Estado</th>\n",
       "      <th>taxa</th>\n",
       "      <th>Impostos</th>\n",
       "    </tr>\n",
       "  </thead>\n",
       "  <tbody>\n",
       "    <tr>\n",
       "      <th>0</th>\n",
       "      <td>Natal</td>\n",
       "      <td>Rio Grande do Norte</td>\n",
       "      <td>1.25</td>\n",
       "      <td>6</td>\n",
       "    </tr>\n",
       "    <tr>\n",
       "      <th>1</th>\n",
       "      <td>Recife</td>\n",
       "      <td>Pernambuco</td>\n",
       "      <td>2.60</td>\n",
       "      <td>3</td>\n",
       "    </tr>\n",
       "    <tr>\n",
       "      <th>2</th>\n",
       "      <td>Londrina</td>\n",
       "      <td>Paraná</td>\n",
       "      <td>1.70</td>\n",
       "      <td>5</td>\n",
       "    </tr>\n",
       "  </tbody>\n",
       "</table>\n",
       "</div>"
      ]
     },
     "metadata": {},
     "execution_count": 46
    }
   ],
   "metadata": {}
  }
 ],
 "metadata": {
  "orig_nbformat": 4,
  "language_info": {
   "name": "python",
   "version": "3.8.5",
   "mimetype": "text/x-python",
   "codemirror_mode": {
    "name": "ipython",
    "version": 3
   },
   "pygments_lexer": "ipython3",
   "nbconvert_exporter": "python",
   "file_extension": ".py"
  },
  "kernelspec": {
   "name": "python3",
   "display_name": "Python 3.8.5 64-bit ('base': conda)"
  },
  "interpreter": {
   "hash": "3d86adfb6bd35c5260e474f631bbf002f1a2f75a3f4602739dc597cff0f8e384"
  }
 },
 "nbformat": 4,
 "nbformat_minor": 2
}