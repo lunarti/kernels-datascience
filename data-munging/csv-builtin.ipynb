{
 "metadata": {
  "language_info": {
   "codemirror_mode": {
    "name": "ipython",
    "version": 3
   },
   "file_extension": ".py",
   "mimetype": "text/x-python",
   "name": "python",
   "nbconvert_exporter": "python",
   "pygments_lexer": "ipython3",
   "version": "3.8.5"
  },
  "orig_nbformat": 2,
  "kernelspec": {
   "name": "python3",
   "display_name": "Python 3.8.5 64-bit ('base': conda)"
  },
  "interpreter": {
   "hash": "3d86adfb6bd35c5260e474f631bbf002f1a2f75a3f4602739dc597cff0f8e384"
  }
 },
 "nbformat": 4,
 "nbformat_minor": 2,
 "cells": [
  {
   "source": [
    "# datasets\n",
    "\n",
    "### pacote csv built-in"
   ],
   "cell_type": "markdown",
   "metadata": {}
  },
  {
   "cell_type": "code",
   "execution_count": 11,
   "metadata": {
    "tags": []
   },
   "outputs": [
    {
     "output_type": "stream",
     "name": "stdout",
     "text": [
      "\"datetime\",\"home_team\",\"home_team_state\",\"away_team\",\"away_team_state\",\"home_goal\",\"away_goal\",\"season\",\"round\"\n2012-05-19 18:30:00,\"Palmeiras\",\"SP\",\"Portuguesa\",\"SP\",1,1,2012,1\n2012-05-19 18:30:00,\"Sport\",\"PE\",\"Flamengo\",\"RJ\",1,1,2012,1\n2012-05-19 21:00:00,\"Figueirense\",\"SC\",\"NÃ¡utico\",\"PE\",2,1,2012,1\n2012-05-20 16:00:00,\"Ponte Preta\",\"SP\",\"AtlÃ©tico\",\"MG\",0,1,2012,1\n2012-05-20 16:00:00,\"Corinthians\",\"SP\",\"Fluminense\",\"RJ\",0,1,2012,1\n2012-05-20 16:00:00,\"Botafogo\",\"RJ\",\"SÃ£o Paulo\",\"SP\",4,2,2012,1\n2012-05-20 16:00:00,\"Internacional\",\"RS\",\"Coritiba\",\"PR\",2,0,2012,1\n2012-05-20 18:30:00,\"Vasco da Gama\",\"RJ\",\"GrÃªmio\",\"RS\",2,1,2012,1\n2012-05-20 18:30:00,\"Bahia\",\"BA\",\"Santos\",\"SP\",0,0,2012,1\n2012-05-20 18:30:00,\"Cruzeiro\",\"MG\",\"AtlÃ©tico\",\"GO\",0,0,2012,1\n2012-05-26 18:30:00,\"AtlÃ©tico\",\"GO\",\"Ponte Preta\",\"SP\",1,1,2012,2\n2012-05-26 18:30:00,\"Flamengo\",\"RJ\",\"Internacional\",\"RS\",3,3,2012,2\n2012-05-26 18:30:00,\"Portuguesa\",\"SP\",\"Vasco da Gama\",\"RJ\",0,1,2012,2\n2012-05-26 21:00:00,\"NÃ¡utico\",\"PE\n"
     ]
    }
   ],
   "source": [
    "d = open(\"files/Brasileirao_Matches.csv\")\n",
    "data = d.read()\n",
    "# separando linhas quando encontra \\n chamado de endline\n",
    "rows = data.split('\\n') \n",
    "print(data[:1000])"
   ]
  },
  {
   "cell_type": "code",
   "execution_count": 12,
   "metadata": {
    "tags": []
   },
   "outputs": [
    {
     "output_type": "stream",
     "name": "stdout",
     "text": [
      "['\"datetime\"', '\"home_team\"', '\"home_team_state\"', '\"away_team\"', '\"away_team_state\"', '\"home_goal\"', '\"away_goal\"', '\"season\"', '\"round\"']\n"
     ]
    }
   ],
   "source": [
    "# divisão em colunas\n",
    "full_data = []\n",
    "for row in rows:\n",
    "    split_row = row.split(\",\")\n",
    "    full_data.append(split_row)\n",
    "print(full_data[0])"
   ]
  },
  {
   "cell_type": "code",
   "execution_count": 13,
   "metadata": {},
   "outputs": [
    {
     "output_type": "stream",
     "name": "stdout",
     "text": [
      "3802\n"
     ]
    }
   ],
   "source": [
    "#contando as linhas\n",
    "count = 0\n",
    "for row in full_data:\n",
    "    count += 1\n",
    "print(count)\n"
   ]
  },
  {
   "cell_type": "code",
   "execution_count": 14,
   "metadata": {},
   "outputs": [
    {
     "output_type": "stream",
     "name": "stdout",
     "text": [
      "9\n"
     ]
    }
   ],
   "source": [
    "#contando colunas\n",
    "count=0\n",
    "for column in full_data[0]:\n",
    "    count += 1\n",
    "print(count)"
   ]
  },
  {
   "cell_type": "code",
   "execution_count": 15,
   "metadata": {},
   "outputs": [
    {
     "output_type": "stream",
     "name": "stdout",
     "text": [
      "texto testandotexto sendo testado\n"
     ]
    }
   ],
   "source": [
    "import os\n",
    "arquivo = open(os.path.join('files/arquivo-datasets-builtin.txt'),'w')\n",
    "texto = \"texto testando\"\n",
    "texto += \"texto sendo testado\"\n",
    "print(texto)"
   ]
  },
  {
   "cell_type": "code",
   "execution_count": 16,
   "metadata": {},
   "outputs": [
    {
     "output_type": "stream",
     "name": "stdout",
     "text": [
      "texto testandotexto sendo testado \n"
     ]
    }
   ],
   "source": [
    "for palavra in texto.split():\n",
    "    arquivo.write(palavra+' ')\n",
    "arquivo.close()\n",
    "arquivo=open('files/arquivo-datasets-builtin.txt','r')\n",
    "print(arquivo.read())\n",
    "arquivo.close()"
   ]
  },
  {
   "cell_type": "code",
   "execution_count": 17,
   "metadata": {},
   "outputs": [
    {
     "output_type": "stream",
     "name": "stdout",
     "text": [
      "texto testandotexto sendo testado \n"
     ]
    }
   ],
   "source": [
    "# usando 'with' a expressão close() é usada automaticamente\n",
    "with open('files/arquivo-datasets-builtin.txt','r') as arquivo:\n",
    "    print(arquivo.read())\n",
    "\n"
   ]
  },
  {
   "cell_type": "code",
   "execution_count": 18,
   "metadata": {},
   "outputs": [
    {
     "output_type": "stream",
     "name": "stdout",
     "text": [
      "texto testandotexto sendo testado \n"
     ]
    }
   ],
   "source": [
    "# \n",
    "arquivo = open('files/arquivo-datasets-builtin.txt','r')\n",
    "print(arquivo.read())"
   ]
  },
  {
   "cell_type": "code",
   "execution_count": 19,
   "metadata": {},
   "outputs": [
    {
     "output_type": "stream",
     "name": "stdout",
     "text": [
      "\n"
     ]
    }
   ],
   "source": [
    "print(arquivo.read())"
   ]
  },
  {
   "cell_type": "code",
   "execution_count": null,
   "metadata": {
    "tags": []
   },
   "outputs": [],
   "source": [
    "import csv\n",
    "with open('files/Brasileirao_Matches.csv','r') as arquivo:\n",
    "    leitor = csv.reader(arquivo)\n",
    "    for x in leitor:\n",
    "        print ('nro colunas:', len(x))\n",
    "        print(x)"
   ]
  }
 ]
}