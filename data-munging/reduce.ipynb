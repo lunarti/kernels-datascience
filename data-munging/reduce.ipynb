{
 "metadata": {
  "language_info": {
   "codemirror_mode": {
    "name": "ipython",
    "version": 3
   },
   "file_extension": ".py",
   "mimetype": "text/x-python",
   "name": "python",
   "nbconvert_exporter": "python",
   "pygments_lexer": "ipython3",
   "version": "3.8.5"
  },
  "orig_nbformat": 2,
  "kernelspec": {
   "name": "python3",
   "display_name": "Python 3.8.5 64-bit ('base': conda)"
  },
  "interpreter": {
   "hash": "3d86adfb6bd35c5260e474f631bbf002f1a2f75a3f4602739dc597cff0f8e384"
  }
 },
 "nbformat": 4,
 "nbformat_minor": 2,
 "cells": [
  {
   "cell_type": "code",
   "execution_count": 4,
   "metadata": {},
   "outputs": [
    {
     "output_type": "execute_result",
     "data": {
      "text/plain": [
       "[47, 11, 42, 13]"
      ]
     },
     "metadata": {},
     "execution_count": 4
    }
   ],
   "source": [
    "from functools import reduce\n",
    "lista = [47,11,42,13]\n",
    "lista"
   ]
  },
  {
   "cell_type": "code",
   "execution_count": 5,
   "metadata": {},
   "outputs": [
    {
     "output_type": "stream",
     "name": "stdout",
     "text": [
      "Help on built-in function reduce in module _functools:\n\nreduce(...)\n    reduce(function, sequence[, initial]) -> value\n    \n    Apply a function of two arguments cumulatively to the items of a sequence,\n    from left to right, so as to reduce the sequence to a single value.\n    For example, reduce(lambda x, y: x+y, [1, 2, 3, 4, 5]) calculates\n    ((((1+2)+3)+4)+5).  If initial is present, it is placed before the items\n    of the sequence in the calculation, and serves as a default when the\n    sequence is empty.\n\n"
     ]
    }
   ],
   "source": [
    "help(reduce)"
   ]
  },
  {
   "source": [
    "def soma(a,b):\n",
    "    x = a + b\n",
    "    return x\n",
    "reduce(soma, lista)"
   ],
   "cell_type": "code",
   "metadata": {},
   "execution_count": 8,
   "outputs": [
    {
     "output_type": "execute_result",
     "data": {
      "text/plain": [
       "113"
      ]
     },
     "metadata": {},
     "execution_count": 8
    }
   ]
  },
  {
   "cell_type": "code",
   "execution_count": 10,
   "metadata": {},
   "outputs": [
    {
     "output_type": "execute_result",
     "data": {
      "text/plain": [
       "113"
      ]
     },
     "metadata": {},
     "execution_count": 10
    }
   ],
   "source": [
    "from IPython.display import Image\n",
    "Image('arquivos/reduce.png')\n",
    "reduce(lambda x,y: x+y, lista)"
   ]
  },
  {
   "cell_type": "code",
   "execution_count": 11,
   "metadata": {},
   "outputs": [
    {
     "output_type": "execute_result",
     "data": {
      "text/plain": [
       "47"
      ]
     },
     "metadata": {},
     "execution_count": 11
    }
   ],
   "source": [
    "# Reduzindo a lista até o valor máximo, através da função criada com a expressão lambda\n",
    "max_find2 = lambda a,b: a if (a > b) else b\n",
    "reduce(max_find2, lst)"
   ]
  }
 ]
}