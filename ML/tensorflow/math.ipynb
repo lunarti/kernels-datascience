{
 "cells": [
  {
   "cell_type": "code",
   "execution_count": 1,
   "id": "a2bc1696",
   "metadata": {},
   "outputs": [],
   "source": [
    "import tensorflow as tf"
   ]
  },
  {
   "cell_type": "code",
   "execution_count": 2,
   "id": "63d50d89",
   "metadata": {},
   "outputs": [
    {
     "data": {
      "text/plain": [
       "'2.6.0'"
      ]
     },
     "execution_count": 2,
     "metadata": {},
     "output_type": "execute_result"
    }
   ],
   "source": [
    "tf.__version__"
   ]
  },
  {
   "cell_type": "code",
   "execution_count": 3,
   "id": "dfccb12c",
   "metadata": {},
   "outputs": [],
   "source": [
    "hello=tf.constant('Hello, Tensorflou!')"
   ]
  },
  {
   "cell_type": "code",
   "execution_count": 4,
   "id": "b3c6b7b3",
   "metadata": {},
   "outputs": [
    {
     "name": "stdout",
     "output_type": "stream",
     "text": [
      "tf.Tensor(b'Hello, Tensorflou!', shape=(), dtype=string)\n"
     ]
    }
   ],
   "source": [
    "print(hello)"
   ]
  },
  {
   "cell_type": "code",
   "execution_count": 5,
   "id": "babb5153",
   "metadata": {},
   "outputs": [
    {
     "name": "stdout",
     "output_type": "stream",
     "text": [
      "tf.Tensor(14, shape=(), dtype=int32)\n"
     ]
    }
   ],
   "source": [
    "const_a=tf.constant(5)\n",
    "const_b=tf.constant(9)\n",
    "total = const_a + const_b\n",
    "print(total)"
   ]
  },
  {
   "cell_type": "code",
   "execution_count": 6,
   "id": "f1d42e39",
   "metadata": {},
   "outputs": [
    {
     "name": "stdout",
     "output_type": "stream",
     "text": [
      "tf.Tensor(11, shape=(), dtype=int32)\n"
     ]
    }
   ],
   "source": [
    "node1=tf.constant(5,dtype=tf.int32)\n",
    "node2=tf.constant(6,dtype=tf.int32)\n",
    "node3=tf.add(node1,node2)\n",
    "print(node3)"
   ]
  },
  {
   "cell_type": "code",
   "execution_count": 7,
   "id": "8cd57bcd",
   "metadata": {},
   "outputs": [
    {
     "name": "stdout",
     "output_type": "stream",
     "text": [
      "tf.Tensor(-1, shape=(), dtype=int32)\n"
     ]
    }
   ],
   "source": [
    "node4=tf.subtract(node1,node2)\n",
    "print(node4)"
   ]
  },
  {
   "cell_type": "code",
   "execution_count": 8,
   "id": "1d1dea31",
   "metadata": {},
   "outputs": [
    {
     "name": "stdout",
     "output_type": "stream",
     "text": [
      "tf.Tensor(0.8333333333333334, shape=(), dtype=float64)\n"
     ]
    }
   ],
   "source": [
    "div=tf.math.truediv(node1,node2)\n",
    "print(div)"
   ]
  },
  {
   "cell_type": "code",
   "execution_count": 9,
   "id": "9c6b1b3b",
   "metadata": {},
   "outputs": [],
   "source": [
    "rand_a=tf.random.normal([3,1],2.0)\n",
    "rand_b=tf.random.uniform([3,2],1.0,4.0)"
   ]
  },
  {
   "cell_type": "code",
   "execution_count": 10,
   "id": "e45dc819",
   "metadata": {},
   "outputs": [
    {
     "name": "stdout",
     "output_type": "stream",
     "text": [
      "tf.Tensor(\n",
      "[[2.773815  ]\n",
      " [2.0934386 ]\n",
      " [0.89128757]], shape=(3, 1), dtype=float32)\n"
     ]
    }
   ],
   "source": [
    "print(rand_a)"
   ]
  },
  {
   "cell_type": "code",
   "execution_count": 11,
   "id": "7fbe3e55",
   "metadata": {},
   "outputs": [
    {
     "name": "stdout",
     "output_type": "stream",
     "text": [
      "tf.Tensor(\n",
      "[[2.397732  2.695125 ]\n",
      " [1.1544377 3.112995 ]\n",
      " [3.8669567 1.018583 ]], shape=(3, 2), dtype=float32)\n"
     ]
    }
   ],
   "source": [
    "print(rand_b)"
   ]
  },
  {
   "cell_type": "code",
   "execution_count": null,
   "id": "314d8fc5",
   "metadata": {},
   "outputs": [],
   "source": [
    "multi=tf.math.multiply(rand_a,rand_b)"
   ]
  },
  {
   "cell_type": "code",
   "execution_count": 13,
   "id": "0fb69aca",
   "metadata": {},
   "outputs": [
    {
     "name": "stdout",
     "output_type": "stream",
     "text": [
      "tf.Tensor(\n",
      "[[6.650865   7.475778  ]\n",
      " [2.4167445  6.516864  ]\n",
      " [3.4465704  0.90785044]], shape=(3, 2), dtype=float32)\n"
     ]
    }
   ],
   "source": [
    "print(multi)"
   ]
  }
 ],
 "metadata": {
  "kernelspec": {
   "display_name": "Python 3",
   "language": "python",
   "name": "python3"
  },
  "language_info": {
   "codemirror_mode": {
    "name": "ipython",
    "version": 3
   },
   "file_extension": ".py",
   "mimetype": "text/x-python",
   "name": "python",
   "nbconvert_exporter": "python",
   "pygments_lexer": "ipython3",
   "version": "3.8.5"
  }
 },
 "nbformat": 4,
 "nbformat_minor": 5
}
