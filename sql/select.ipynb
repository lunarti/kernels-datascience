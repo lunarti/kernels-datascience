{
 "metadata": {
  "language_info": {
   "codemirror_mode": {
    "name": "ipython",
    "version": 3
   },
   "file_extension": ".py",
   "mimetype": "text/x-python",
   "name": "python",
   "nbconvert_exporter": "python",
   "pygments_lexer": "ipython3",
   "version": "3.8.5"
  },
  "orig_nbformat": 4,
  "kernelspec": {
   "name": "python3",
   "display_name": "Python 3.8.5 64-bit ('base': conda)"
  },
  "interpreter": {
   "hash": "3d86adfb6bd35c5260e474f631bbf002f1a2f75a3f4602739dc597cff0f8e384"
  }
 },
 "nbformat": 4,
 "nbformat_minor": 2,
 "cells": [
  {
   "cell_type": "code",
   "execution_count": 1,
   "metadata": {},
   "outputs": [],
   "source": [
    "import sqlite3\n",
    "import random\n",
    "import time\n",
    "import datetime"
   ]
  },
  {
   "cell_type": "code",
   "execution_count": 2,
   "metadata": {},
   "outputs": [],
   "source": [
    "conn = sqlite3.connect('dsa.db') \n",
    "c = conn.cursor()\n",
    "\n",
    "def leitura_todos_dados():\n",
    "    c.execute(\"SELECT * FROM PRODUTOS\")\n",
    "    for linha in c.fetchall():\n",
    "        print(linha)\n",
    "\n",
    "def leitura_registros():\n",
    "    c.execute(\"SELECT * FROM PRODUTOS WHERE valor > 60.0\")\n",
    "    for linha in c.fetchall():\n",
    "        print(linha) \n",
    "\n",
    "def leitura_colunas():\n",
    "    c.execute(\"SELECT * FROM PRODUTOS\")\n",
    "    for linha in c.fetchall():\n",
    "        print(linha[3]) \n",
    "        "
   ]
  },
  {
   "cell_type": "code",
   "execution_count": 3,
   "metadata": {},
   "outputs": [
    {
     "output_type": "stream",
     "name": "stdout",
     "text": [
      "(10, '2020-05-02 14:32:11', 'Teclado', 90.0)\n(11, '2021-06-22 17:40:12.437807', 'Monitor', 87.0)\n(12, '2021-06-22 17:40:13.609600', 'Monitor', 78.0)\n(13, '2021-06-22 17:40:14.726439', 'Monitor', 98.0)\n(14, '2021-06-22 17:40:15.886382', 'Monitor', 94.0)\n(15, '2021-06-22 17:40:17.022141', 'Monitor', 94.0)\n(16, '2021-06-22 17:40:18.159506', 'Monitor', 89.0)\n(17, '2021-06-22 17:40:19.307617', 'Monitor', 74.0)\n(18, '2021-06-22 17:40:20.468610', 'Monitor', 62.0)\n(19, '2021-06-22 17:40:21.648213', 'Monitor', 76.0)\n(20, '2021-06-22 17:40:22.794885', 'Monitor', 95.0)\n"
     ]
    }
   ],
   "source": [
    "leitura_todos_dados()"
   ]
  },
  {
   "cell_type": "code",
   "execution_count": 4,
   "metadata": {},
   "outputs": [
    {
     "output_type": "stream",
     "name": "stdout",
     "text": [
      "(10, '2020-05-02 14:32:11', 'Teclado', 90.0)\n(11, '2021-06-22 17:40:12.437807', 'Monitor', 87.0)\n(12, '2021-06-22 17:40:13.609600', 'Monitor', 78.0)\n(13, '2021-06-22 17:40:14.726439', 'Monitor', 98.0)\n(14, '2021-06-22 17:40:15.886382', 'Monitor', 94.0)\n(15, '2021-06-22 17:40:17.022141', 'Monitor', 94.0)\n(16, '2021-06-22 17:40:18.159506', 'Monitor', 89.0)\n(17, '2021-06-22 17:40:19.307617', 'Monitor', 74.0)\n(18, '2021-06-22 17:40:20.468610', 'Monitor', 62.0)\n(19, '2021-06-22 17:40:21.648213', 'Monitor', 76.0)\n(20, '2021-06-22 17:40:22.794885', 'Monitor', 95.0)\n"
     ]
    }
   ],
   "source": [
    "leitura_registros()"
   ]
  },
  {
   "cell_type": "code",
   "execution_count": 5,
   "metadata": {},
   "outputs": [
    {
     "output_type": "stream",
     "name": "stdout",
     "text": [
      "90.0\n87.0\n78.0\n98.0\n94.0\n94.0\n89.0\n74.0\n62.0\n76.0\n95.0\n"
     ]
    }
   ],
   "source": [
    "leitura_colunas()"
   ]
  },
  {
   "cell_type": "code",
   "execution_count": 6,
   "metadata": {},
   "outputs": [],
   "source": [
    "c.close()\n",
    "conn.close()"
   ]
  }
 ]
}