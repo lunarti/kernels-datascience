{
 "metadata": {
  "language_info": {
   "codemirror_mode": {
    "name": "ipython",
    "version": 3
   },
   "file_extension": ".py",
   "mimetype": "text/x-python",
   "name": "python",
   "nbconvert_exporter": "python",
   "pygments_lexer": "ipython3",
   "version": "3.8.5"
  },
  "orig_nbformat": 4,
  "kernelspec": {
   "name": "python3",
   "display_name": "Python 3.8.5 64-bit ('base': conda)"
  },
  "interpreter": {
   "hash": "3d86adfb6bd35c5260e474f631bbf002f1a2f75a3f4602739dc597cff0f8e384"
  }
 },
 "nbformat": 4,
 "nbformat_minor": 2,
 "cells": [
  {
   "cell_type": "code",
   "execution_count": 1,
   "metadata": {},
   "outputs": [
    {
     "output_type": "execute_result",
     "data": {
      "text/plain": [
       "sqlite3.Connection"
      ]
     },
     "metadata": {},
     "execution_count": 1
    }
   ],
   "source": [
    "import sqlite3\n",
    "os.remove(\"escola.db\") if os.path.exists(\"escola.db\") else None\n",
    "con = sqlite3.connect('escola.db')\n",
    "type(con)"
   ]
  },
  {
   "cell_type": "code",
   "execution_count": 2,
   "metadata": {},
   "outputs": [
    {
     "output_type": "execute_result",
     "data": {
      "text/plain": [
       "sqlite3.Cursor"
      ]
     },
     "metadata": {},
     "execution_count": 2
    }
   ],
   "source": [
    "cur = con.cursor()\n",
    "type(cur)"
   ]
  },
  {
   "cell_type": "code",
   "execution_count": 3,
   "metadata": {},
   "outputs": [],
   "source": [
    "#DDL - Data Definition Language\n",
    "sql_create = 'create table cursos '\\\n",
    "'(id integer primary key, '\\\n",
    "'titulo varchar(100), '\\\n",
    "'categoria varchar(140))'"
   ]
  },
  {
   "cell_type": "code",
   "execution_count": 4,
   "metadata": {},
   "outputs": [
    {
     "output_type": "execute_result",
     "data": {
      "text/plain": [
       "<sqlite3.Cursor at 0x144d97b52d0>"
      ]
     },
     "metadata": {},
     "execution_count": 4
    }
   ],
   "source": [
    "cur.execute(sql_create)"
   ]
  },
  {
   "cell_type": "code",
   "execution_count": 5,
   "metadata": {},
   "outputs": [],
   "source": [
    "sql_insert = 'insert into cursos values (?, ?, ?)'\n",
    "recset = [(1000, 'Ciência de Dados', 'Data Science'),\n",
    "          (1001, 'Big Data Fundamentos', 'Big Data'),\n",
    "          (1002, 'Python Fundamentos', 'Análise de Dados')]"
   ]
  },
  {
   "cell_type": "code",
   "execution_count": 7,
   "metadata": {},
   "outputs": [],
   "source": [
    "for rec in recset:\n",
    "    cur.execute(sql_insert, rec)"
   ]
  },
  {
   "cell_type": "code",
   "execution_count": 8,
   "metadata": {},
   "outputs": [],
   "source": [
    "con.commit()"
   ]
  },
  {
   "cell_type": "code",
   "execution_count": 9,
   "metadata": {},
   "outputs": [],
   "source": [
    "sql_select = 'select * from cursos'\n",
    "cur.execute(sql_select)\n",
    "dados = cur.fetchall()"
   ]
  },
  {
   "cell_type": "code",
   "execution_count": 10,
   "metadata": {},
   "outputs": [],
   "source": [
    "cur.execute(sql_select)\n",
    "dados = cur.fetchall()"
   ]
  },
  {
   "cell_type": "code",
   "execution_count": 11,
   "metadata": {},
   "outputs": [
    {
     "output_type": "stream",
     "name": "stdout",
     "text": [
      "Curso Id: 1000, Título: Ciência de Dados, Categoria: Data Science \n\nCurso Id: 1001, Título: Big Data Fundamentos, Categoria: Big Data \n\nCurso Id: 1002, Título: Python Fundamentos, Categoria: Análise de Dados \n\n"
     ]
    }
   ],
   "source": [
    "for linha in dados:\n",
    "    print ('Curso Id: %d, Título: %s, Categoria: %s \\n' % linha)"
   ]
  },
  {
   "cell_type": "code",
   "execution_count": 12,
   "metadata": {},
   "outputs": [],
   "source": [
    "recset = [(1003, 'Gestão de Dados com MongoDB', 'Big Data'),\n",
    "          (1004, 'R Fundamentos', 'Análise de Dados')]\n",
    "\n",
    "# Inserindo os registros\n",
    "for rec in recset:\n",
    "    cur.execute(sql_insert, rec)\n",
    "    \n",
    "# Gravando a transação\n",
    "con.commit()"
   ]
  },
  {
   "cell_type": "code",
   "execution_count": 13,
   "metadata": {},
   "outputs": [
    {
     "output_type": "stream",
     "name": "stdout",
     "text": [
      "Curso Id: 1000, Título: Ciência de Dados, Categoria: Data Science \n\nCurso Id: 1001, Título: Big Data Fundamentos, Categoria: Big Data \n\nCurso Id: 1002, Título: Python Fundamentos, Categoria: Análise de Dados \n\nCurso Id: 1003, Título: Gestão de Dados com MongoDB, Categoria: Big Data \n\nCurso Id: 1004, Título: R Fundamentos, Categoria: Análise de Dados \n\n"
     ]
    }
   ],
   "source": [
    "cur.execute('select * from cursos')\n",
    "\n",
    "# Recupera os resultados\n",
    "recset = cur.fetchall()\n",
    "\n",
    "# Mostra\n",
    "for rec in recset:\n",
    "    print ('Curso Id: %d, Título: %s, Categoria: %s \\n' % rec)"
   ]
  },
  {
   "cell_type": "code",
   "execution_count": 14,
   "metadata": {},
   "outputs": [],
   "source": [
    "con.close()"
   ]
  }
 ]
}