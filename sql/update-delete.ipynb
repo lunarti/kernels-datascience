{
 "metadata": {
  "language_info": {
   "codemirror_mode": {
    "name": "ipython",
    "version": 3
   },
   "file_extension": ".py",
   "mimetype": "text/x-python",
   "name": "python",
   "nbconvert_exporter": "python",
   "pygments_lexer": "ipython3",
   "version": "3.8.5"
  },
  "orig_nbformat": 4,
  "kernelspec": {
   "name": "python3",
   "display_name": "Python 3.8.5 64-bit ('base': conda)"
  },
  "interpreter": {
   "hash": "3d86adfb6bd35c5260e474f631bbf002f1a2f75a3f4602739dc597cff0f8e384"
  }
 },
 "nbformat": 4,
 "nbformat_minor": 2,
 "cells": [
  {
   "cell_type": "code",
   "execution_count": 29,
   "metadata": {},
   "outputs": [],
   "source": [
    "import sqlite3\n",
    "import random\n",
    "import time\n",
    "import datetime\n",
    "\n",
    "conn = sqlite3.connect('dsa.db')\n",
    "c = conn.cursor()\n",
    "\n",
    "def atualiza_dados():\n",
    "    c.execute(\"UPDATE produtos SET valor = 70.00 WHERE valor = 98.0\")\n",
    "    conn.commit()\n",
    "\n",
    "def remove_dados():\n",
    "    c.execute(\"DELETE FROM produtos WHERE valor > 63.0\")\n",
    "    conn.commit()\n",
    "\n",
    "def leitura_todos_dados():\n",
    "    c.execute(\"SELECT * FROM PRODUTOS\")\n",
    "    for linha in c.fetchall():\n",
    "        print(linha)"
   ]
  },
  {
   "cell_type": "code",
   "execution_count": 30,
   "metadata": {},
   "outputs": [],
   "source": [
    "atualiza_dados()"
   ]
  },
  {
   "cell_type": "code",
   "execution_count": 31,
   "metadata": {},
   "outputs": [
    {
     "output_type": "stream",
     "name": "stdout",
     "text": [
      "(10, '2020-05-02 14:32:11', 'Teclado', 90.0)\n(11, '2021-06-22 17:50:26.334455', 'Monitor', 90.0)\n(12, '2021-06-22 17:50:27.499444', 'Monitor', 50.0)\n(13, '2021-06-22 17:50:28.621481', 'Monitor', 67.0)\n(14, '2021-06-22 17:50:29.738582', 'Monitor', 51.0)\n(15, '2021-06-22 17:50:30.874510', 'Monitor', 64.0)\n(16, '2021-06-22 17:50:31.997168', 'Monitor', 81.0)\n(17, '2021-06-22 17:50:33.134076', 'Monitor', 73.0)\n"
     ]
    }
   ],
   "source": [
    "leitura_todos_dados()"
   ]
  },
  {
   "cell_type": "code",
   "execution_count": 32,
   "metadata": {},
   "outputs": [],
   "source": [
    "remove_dados()"
   ]
  },
  {
   "cell_type": "code",
   "execution_count": 33,
   "metadata": {},
   "outputs": [
    {
     "output_type": "stream",
     "name": "stdout",
     "text": [
      "(12, '2021-06-22 17:50:27.499444', 'Monitor', 50.0)\n(14, '2021-06-22 17:50:29.738582', 'Monitor', 51.0)\n(19, '2021-06-22 17:50:35.382367', 'Monitor', 52.0)\n(20, '2021-06-22 17:50:36.530872', 'Monitor', 58.0)\n"
     ]
    }
   ],
   "source": [
    "leitura_todos_dados()"
   ]
  },
  {
   "cell_type": "code",
   "execution_count": 34,
   "metadata": {},
   "outputs": [],
   "source": [
    "c.close()\n",
    "conn.close()"
   ]
  }
 ]
}